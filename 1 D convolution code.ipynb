{
 "cells": [
  {
   "cell_type": "code",
   "execution_count": 38,
   "metadata": {
    "collapsed": true
   },
   "outputs": [],
   "source": [
    "# Gives the discrete, linear convolution of two one-dimensional sequences.\n",
    "# some goodies\n",
    "%matplotlib inline\n",
    "import matplotlib.pyplot as plt\n",
    "import numpy as np\n",
    "import math"
   ]
  },
  {
   "cell_type": "code",
   "execution_count": 39,
   "metadata": {},
   "outputs": [
    {
     "name": "stdout",
     "output_type": "stream",
     "text": [
      "insert only the values of the first 1D array with the space between them:1 2 3 4\n",
      "insert only values of the second 1D array with the space between them:1 2 3\n"
     ]
    }
   ],
   "source": [
    "#input the two 1D array\n",
    "str_arr_I = raw_input('insert only the values of the first 1D array with the space between them:').split(' ') \n",
    "Iin=0.0* np.ones(len(str_arr_I))\n",
    "for i,j in zip (str_arr_I, xrange(len(str_arr_I))):    \n",
    "    Iin[j]=i\n",
    "str_arr_k = raw_input('insert only values of the second 1D array with the space between them:').split(' ') \n",
    "k=0.0* np.ones(len(str_arr_k))\n",
    "for i,j in zip (str_arr_k, xrange(len(str_arr_k))):    \n",
    "    k[j]=i"
   ]
  },
  {
   "cell_type": "code",
   "execution_count": 40,
   "metadata": {},
   "outputs": [
    {
     "name": "stdout",
     "output_type": "stream",
     "text": [
      "[  1.   4.  10.  16.  17.  12.]\n",
      "[  4.  10.  16.  17.]\n"
     ]
    }
   ],
   "source": [
    "# convolution of two arrays with built-in library\n",
    "T=np.convolve(Iin,k, 'full')\n",
    "print(T)\n",
    "T=np.convolve(Iin,k, 'same')\n",
    "print(T)"
   ]
  },
  {
   "cell_type": "code",
   "execution_count": 41,
   "metadata": {},
   "outputs": [
    {
     "name": "stdout",
     "output_type": "stream",
     "text": [
      "[  1.   4.  10.  16.  17.  12.]\n"
     ]
    }
   ],
   "source": [
    "# convolution of two arrays with my code for \"full\" mode\n",
    "TT=[0]*(len(k)-1)\n",
    "I=np.concatenate((TT,Iin), axis=0)\n",
    "\n",
    "Result=0.0* np.ones(len(I))\n",
    "for i in xrange(len(I)):    \n",
    "    con = 0                     \n",
    "    for j in xrange (len(k)):\n",
    "        if i+j>len(I)-1:\n",
    "            con += 0*k[(len(k))-j] \n",
    "        else:\n",
    "            con += I[i+j] * k[(len(k)-1)-j] \n",
    "    Result[i]=con\n",
    "print(Result)"
   ]
  },
  {
   "cell_type": "code",
   "execution_count": 46,
   "metadata": {},
   "outputs": [
    {
     "name": "stdout",
     "output_type": "stream",
     "text": [
      "[  4.  10.  16.  17.]\n"
     ]
    }
   ],
   "source": [
    "# convolution of two arrays with my code for \"same\" mode\n",
    "\n",
    "length_same=0\n",
    "if len(Iin)>len(k):\n",
    "    length_same=len(Iin)\n",
    "else:\n",
    "    length_same=len(k)\n",
    "length_full=len(Result)\n",
    "offset=length_full-length_same\n",
    "offset_from_eachend=offset/2\n",
    "frnt_idx=int(offset_from_eachend)\n",
    "end_idx=frnt_idx+length_same\n",
    "idx=np.arange(frnt_idx,end_idx)\n",
    "same=0.0* np.ones(len(idx))\n",
    "for i,j in zip (idx, xrange(len(idx))):\n",
    "    d=Result[i]\n",
    "    same[j]=d\n",
    "    \n",
    "print(same)"
   ]
  },
  {
   "cell_type": "code",
   "execution_count": 75,
   "metadata": {},
   "outputs": [
    {
     "name": "stdout",
     "output_type": "stream",
     "text": [
      "[ 10.  16.  17.  12.]\n"
     ]
    }
   ],
   "source": [
    "# convolution of two arrays without for loop\n",
    "kT=k[: : -1]\n",
    "if len(k)!=len(Iin): \n",
    "    kT_=[0]*abs(len(k)-len(Iin))\n",
    "    kT=np.concatenate((kT,kT_), axis=0)\n",
    "M,T=np.meshgrid(Iin,Iin)\n",
    "iu=np.triu(M)\n",
    "mask = iu>0\n",
    "justified_mask = np.sort(mask,1)\n",
    "justified_mask = justified_mask[:,::-1]\n",
    "out = np.zeros_like(iu) \n",
    "out[justified_mask] = iu[mask]\n",
    "dot=np.dot(kT,out)\n",
    "print(dot)"
   ]
  },
  {
   "cell_type": "code",
   "execution_count": null,
   "metadata": {
    "collapsed": true
   },
   "outputs": [],
   "source": []
  }
 ],
 "metadata": {
  "kernelspec": {
   "display_name": "Python 2",
   "language": "python",
   "name": "python2"
  },
  "language_info": {
   "codemirror_mode": {
    "name": "ipython",
    "version": 2
   },
   "file_extension": ".py",
   "mimetype": "text/x-python",
   "name": "python",
   "nbconvert_exporter": "python",
   "pygments_lexer": "ipython2",
   "version": "2.7.13"
  }
 },
 "nbformat": 4,
 "nbformat_minor": 2
}
