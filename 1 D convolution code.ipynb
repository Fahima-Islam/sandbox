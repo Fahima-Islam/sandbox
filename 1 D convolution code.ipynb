{
 "cells": [
  {
   "cell_type": "code",
   "execution_count": 5,
   "metadata": {
    "collapsed": true
   },
   "outputs": [],
   "source": [
    "# some goodies\n",
    "%matplotlib inline\n",
    "import matplotlib.pyplot as plt\n",
    "import numpy as np\n",
    "import math"
   ]
  },
  {
   "cell_type": "code",
   "execution_count": 14,
   "metadata": {},
   "outputs": [
    {
     "data": {
      "image/png": "[encoded data removed]",
      "text/plain": [
       "<matplotlib.figure.Figure at 0x7f43e8b73d10>"
      ]
     },
     "metadata": {},
     "output_type": "display_data"
    },
    {
     "data": {
      "text/plain": [
       "<function matplotlib.pyplot.show>"
      ]
     },
     "execution_count": 14,
     "metadata": {},
     "output_type": "execute_result"
    },
    {
     "data": {
      "image/png": "[encoded data removed]",
      "text/plain": [
       "<matplotlib.figure.Figure at 0x7f43c4505cd0>"
      ]
     },
     "metadata": {},
     "output_type": "display_data"
    }
   ],
   "source": [
    "#creat the kernel\n",
    "#1./(sqrt(2.*pi)*sig)*np.exp(-np.power((x - mu)/sig, 2.)/2) #gaussian function\n",
    "k=np.arange(1, 5)\n",
    "plt.plot(k)\n",
    "plt.show()\n",
    "\n",
    "#G=np.arange(len(k))\n",
    "result=[]\n",
    "for x in k:\n",
    "    \n",
    "    G=1./(np.sqrt(2.*np.pi)*5)*np.exp(-np.power((x - 0)/5, 2.)/2)\n",
    "    result.append(G)\n",
    "#print(G[0])\n",
    "plt.plot(k,result)\n",
    "#print(k)\n",
    "#print(result.length)\n",
    "plt.show"
   ]
  },
  {
   "cell_type": "code",
   "execution_count": 101,
   "metadata": {},
   "outputs": [
    {
     "name": "stdout",
     "output_type": "stream",
     "text": [
      "2.0\n",
      "1\n",
      "7\n"
     ]
    }
   ],
   "source": [
    "# create the signal\n",
    "k=np.arange(1, 6)\n",
    "I=np.arange(1,8)\n",
    "print ((np.ceil(len(k)/2)))\n",
    "#convolution\n",
    "result=[]\n",
    "print(int(np.ceil(len(k)/2)-(0+1)))\n",
    "print(len(I))"
   ]
  },
  {
   "cell_type": "code",
   "execution_count": 163,
   "metadata": {},
   "outputs": [
    {
     "name": "stdout",
     "output_type": "stream",
     "text": [
      "26\n",
      "(1, 1)\n",
      "40\n",
      "55\n",
      "70\n",
      "85\n",
      "60\n",
      "38\n"
     ]
    }
   ],
   "source": [
    "# create the signal\n",
    "k=np.arange(1, 6)\n",
    "I=np.arange(1,8)\n",
    "#print (I[6])\n",
    "#convolution\n",
    "result=[]\n",
    "#print(len(k))\n",
    "#print(int(math.ceil(len(k)/2)))\n",
    "#for i,j in zip (xrange(len(I)-1), xrange((int(np.ceil(len(k)/2)))-1)):\n",
    "for i in xrange(len(I)):\n",
    "    #print('I[i]',I[i])\n",
    "    #print('i',i)\n",
    "    #mid= I[i]*k[int(np.ceil(len(k)/2))]\n",
    "    #print(mid)\n",
    "    \n",
    "    right=[]\n",
    "    left=[]\n",
    "    sright=0\n",
    "    sleft=0\n",
    "   \n",
    "    for j in xrange(((int(np.ceil(len(k)/2))))):\n",
    "        #print(j)\n",
    "        \n",
    "        #print(mid)\n",
    "        if i+j+1>=len(I):\n",
    "            sright+=0\n",
    "            #print(i,j)\n",
    "            #print(i)\n",
    "            #right.append(sright)\n",
    "        else:\n",
    "            sright += I[i+j+1]*k[int(np.ceil(len(k)/2)+j+1)]\n",
    "            #right.append(sright)\n",
    "        if i==0:\n",
    "            sleft=0\n",
    "            #left.append(sleft)\n",
    "        else:\n",
    "            if i-(j+1)<0:\n",
    "                sleft +=0\n",
    "               \n",
    "                print(i,j)\n",
    "            else:\n",
    "                sleft += I[i-(j+1)]*k[int(np.ceil(len(k)/2)-(j+1))]\n",
    "            #left.append(sleft)\n",
    "            #print(sleft)\n",
    "    #print(sleft)\n",
    "    mid= I[i]*k[int(np.ceil(len(k)/2))]\n",
    "    sout=sright+sleft+mid\n",
    "    #out=mid+sout\n",
    "    print(sout)\n",
    "#result.append(out)"
   ]
  },
  {
   "cell_type": "code",
   "execution_count": 169,
   "metadata": {},
   "outputs": [
    {
     "name": "stdout",
     "output_type": "stream",
     "text": [
      "[ 1  4 10 20 35 50 65 72 70 58 35]\n"
     ]
    }
   ],
   "source": [
    "T=np.convolve(I,k, 'full')\n",
    "print(T)"
   ]
  },
  {
   "cell_type": "code",
   "execution_count": null,
   "metadata": {
    "collapsed": true
   },
   "outputs": [],
   "source": []
  }
 ],
 "metadata": {
  "kernelspec": {
   "display_name": "Python 2",
   "language": "python",
   "name": "python2"
  },
  "language_info": {
   "codemirror_mode": {
    "name": "ipython",
    "version": 2
   },
   "file_extension": ".py",
   "mimetype": "text/x-python",
   "name": "python",
   "nbconvert_exporter": "python",
   "pygments_lexer": "ipython2",
   "version": "2.7.13"
  }
 },
 "nbformat": 4,
 "nbformat_minor": 2
}
