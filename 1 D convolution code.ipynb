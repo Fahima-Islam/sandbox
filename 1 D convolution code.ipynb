{
 "cells": [
  {
   "cell_type": "code",
   "execution_count": 287,
   "metadata": {
    "collapsed": true
   },
   "outputs": [],
   "source": [
    "# Gives the discrete, linear convolution of two one-dimensional sequences.\n",
    "# some goodies\n",
    "%matplotlib inline\n",
    "import matplotlib.pyplot as plt\n",
    "import numpy as np\n",
    "import math"
   ]
  },
  {
   "cell_type": "code",
   "execution_count": 288,
   "metadata": {},
   "outputs": [
    {
     "name": "stdout",
     "output_type": "stream",
     "text": [
      "insert only the values of the first 1D array with the space between them:1 2 3 4 5 6\n",
      "insert only values of the second 1D array with the space between them:6 7 8\n"
     ]
    }
   ],
   "source": [
    "#input the two 1D array\n",
    "str_arr_I = raw_input('insert only the values of the first 1D array with the space between them:').split(' ') \n",
    "Iin=0.0* np.ones(len(str_arr_I))\n",
    "for i,j in zip (str_arr_I, xrange(len(str_arr_I))):    \n",
    "    Iin[j]=i\n",
    "str_arr_k = raw_input('insert only values of the second 1D array with the space between them:').split(' ') \n",
    "k=0.0* np.ones(len(str_arr_k))\n",
    "for i,j in zip (str_arr_k, xrange(len(str_arr_k))):    \n",
    "    k[j]=i"
   ]
  },
  {
   "cell_type": "code",
   "execution_count": 289,
   "metadata": {},
   "outputs": [
    {
     "name": "stdout",
     "output_type": "stream",
     "text": [
      "[   6.   19.   40.   61.   82.  103.   82.   48.]\n",
      "[  19.   40.   61.   82.  103.   82.]\n"
     ]
    }
   ],
   "source": [
    "# convolution of two arrays with built-in library\n",
    "T=np.convolve(Iin,k, 'full')\n",
    "print(T)\n",
    "T=np.convolve(Iin,k, 'same')\n",
    "print(T)"
   ]
  },
  {
   "cell_type": "code",
   "execution_count": 290,
   "metadata": {},
   "outputs": [
    {
     "name": "stdout",
     "output_type": "stream",
     "text": [
      "[   6.   19.   40.   61.   82.  103.   82.   48.]\n"
     ]
    }
   ],
   "source": [
    "# convolution of two arrays with my code for \"full\" mode\n",
    "TT=[0]*(len(k)-1)\n",
    "I=np.concatenate((TT,Iin), axis=0)\n",
    "\n",
    "Result=0.0* np.ones(len(I))\n",
    "for i in xrange(len(I)):    \n",
    "    con = 0                     \n",
    "    for j in xrange (len(k)):\n",
    "        if i+j>len(I)-1:\n",
    "            con += 0*k[(len(k))-j] \n",
    "        else:\n",
    "            con += I[i+j] * k[(len(k)-1)-j] \n",
    "    Result[i]=con\n",
    "print(Result)"
   ]
  },
  {
   "cell_type": "code",
   "execution_count": 291,
   "metadata": {},
   "outputs": [
    {
     "name": "stdout",
     "output_type": "stream",
     "text": [
      "[  19.   40.   61.   82.  103.   82.]\n"
     ]
    }
   ],
   "source": [
    "# convolution of two arrays with my code for \"same\" mode\n",
    "\n",
    "length_same=0\n",
    "if len(Iin)>len(k):\n",
    "    length_same=len(Iin)\n",
    "else:\n",
    "    length_same=len(k)\n",
    "length_full=len(Result)\n",
    "offset=length_full-length_same\n",
    "offset_from_eachend=offset/2\n",
    "frnt_idx=int(offset_from_eachend)\n",
    "end_idx=frnt_idx+length_same\n",
    "idx=np.arange(frnt_idx,end_idx)\n",
    "same=0.0* np.ones(len(idx))\n",
    "for i,j in zip (idx, xrange(len(idx))):\n",
    "    d=Result[i]\n",
    "    same[j]=d\n",
    "    \n",
    "print(same)"
   ]
  },
  {
   "cell_type": "code",
   "execution_count": 293,
   "metadata": {},
   "outputs": [
    {
     "name": "stdout",
     "output_type": "stream",
     "text": [
      "for full mode [   6.   19.   40.   61.   82.  103.   82.   48.]\n",
      "for same mode [  19.   40.   61.   82.  103.   82.]\n"
     ]
    }
   ],
   "source": [
    "# convolution of two arrays with my code without any 'for'loop\n",
    "kT=k[::-1]   \n",
    "if len(Iin)<len(k):\n",
    "    kT=Iin[::-1]    \n",
    "kT0=kT\n",
    "kT1=kT\n",
    "if len(k)!=len(Iin): \n",
    "    kT_=[0]*abs(len(k)-len(Iin))\n",
    "    kT0=np.concatenate((kT_,kT), axis=0)\n",
    "    kT1=np.concatenate((kT,kT_), axis=0)\n",
    "    \n",
    "length_s=0\n",
    "if len(Iin)>len(k):\n",
    "    length_s=len(Iin)\n",
    "else:\n",
    "    length_s=len(k)\n",
    "    \n",
    "if len(Iin)<len(k):\n",
    "    Iin=k\n",
    "    \n",
    "M,T=np.meshgrid(Iin,Iin)\n",
    "il=np.tril(M[:(len(kT)-1),:])\n",
    "iu=np.triu(M)\n",
    "mask = il>0\n",
    "mask_1 = iu>0\n",
    "justified_mask = np.sort(mask,1)\n",
    "justified_mask_1 = np.sort(mask_1,1)\n",
    "justified_mask = justified_mask[:,::]\n",
    "justified_mask_1 = justified_mask_1[:,::-1]\n",
    "out = np.zeros_like(il[:,:]) \n",
    "out_1 = np.zeros_like(iu)\n",
    "out[justified_mask] = il[:,:][mask]\n",
    "out_1[justified_mask_1] = iu[mask_1]\n",
    "Rr=np.concatenate((np.dot(out,kT0),np.dot(kT1,out_1)),axis=0)\n",
    "print(\"for full mode {}\".format(Rr) )\n",
    "length_f=len(Rr)\n",
    "off=length_f-length_s\n",
    "off_eachend=off/2\n",
    "f_idx=int(off_eachend)\n",
    "e_idx=f_idx+length_s\n",
    "Sr=Rr[f_idx:e_idx]\n",
    "print(\"for same mode {}\".format(Sr))"
   ]
  }
 ],
 "metadata": {
  "kernelspec": {
   "display_name": "Python 2",
   "language": "python",
   "name": "python2"
  },
  "language_info": {
   "codemirror_mode": {
    "name": "ipython",
    "version": 2
   },
   "file_extension": ".py",
   "mimetype": "text/x-python",
   "name": "python",
   "nbconvert_exporter": "python",
   "pygments_lexer": "ipython2",
   "version": "2.7.13"
  }
 },
 "nbformat": 4,
 "nbformat_minor": 2
}
