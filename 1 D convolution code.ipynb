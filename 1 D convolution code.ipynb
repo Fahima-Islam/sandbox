{
 "cells": [
  {
   "cell_type": "code",
   "execution_count": 3,
   "metadata": {
    "collapsed": true
   },
   "outputs": [],
   "source": [
    "# Gives the discrete, linear convolution of two one-dimensional sequences.\n",
    "# some goodies\n",
    "%matplotlib inline\n",
    "import matplotlib.pyplot as plt\n",
    "import numpy as np\n",
    "import math"
   ]
  },
  {
   "cell_type": "code",
   "execution_count": 34,
   "metadata": {},
   "outputs": [
    {
     "name": "stdout",
     "output_type": "stream",
     "text": [
      "inser only the values of the first 1D array with the space between them:1 2 3 4 5 6 7 8\n",
      "inser only values of the second 1D array with the space between them:1 2 3\n"
     ]
    }
   ],
   "source": [
    "#input the two 1D array\n",
    "str_arr_I = raw_input('inser only the values of the first 1D array with the space between them:').split(' ') \n",
    "Iin = [int(num) for num in str_arr_I]\n",
    "str_arr_k = raw_input('inser only values of the second 1D array with the space between them:').split(' ') \n",
    "k = [int(num) for num in str_arr_k]"
   ]
  },
  {
   "cell_type": "code",
   "execution_count": 35,
   "metadata": {},
   "outputs": [
    {
     "name": "stdout",
     "output_type": "stream",
     "text": [
      "[ 1  4 10 16 22 28 34 40 37 24]\n",
      "[ 4 10 16 22 28 34 40 37]\n"
     ]
    }
   ],
   "source": [
    "# convolution of two arrays with built-in library\n",
    "T=np.convolve(Iin,k, 'full')\n",
    "print(T)\n",
    "T=np.convolve(Iin,k, 'same')\n",
    "print(T)"
   ]
  },
  {
   "cell_type": "code",
   "execution_count": 36,
   "metadata": {},
   "outputs": [
    {
     "name": "stdout",
     "output_type": "stream",
     "text": [
      "[1, 4, 10, 16, 22, 28, 34, 40, 37, 24]\n"
     ]
    }
   ],
   "source": [
    "# convolution of two arrays with my code for \"full\" mode\n",
    "TT=[0]*(len(k)-1)\n",
    "I=np.concatenate((TT,Iin), axis=0)\n",
    "\n",
    "Result=[]\n",
    "for i in xrange(len(I)):    \n",
    "    con = 0                     \n",
    "    for j in xrange (len(k)):\n",
    "        if i+j>len(I)-1:\n",
    "            con += 0*k[(len(k))-j] \n",
    "        else:\n",
    "            con += I[i+j] * k[(len(k)-1)-j] \n",
    "    Result.append(con)\n",
    "print(Result)"
   ]
  },
  {
   "cell_type": "code",
   "execution_count": 37,
   "metadata": {},
   "outputs": [
    {
     "name": "stdout",
     "output_type": "stream",
     "text": [
      "[4, 10, 16, 22, 28, 34, 40, 37]\n"
     ]
    }
   ],
   "source": [
    "# convolution of two arrays with my code for \"same\" mode\n",
    "mid_idx=0\n",
    "length=0\n",
    "if len(Iin)>len(k):\n",
    "    length=len(Iin)\n",
    "else:\n",
    "    length=len(k)\n",
    "if (len(Result) % 2 == 0): #even \n",
    "    mid_idx=int(len(Result)/2)    \n",
    "else: \n",
    "    mid_idx=int(np.ceil(len(Result)/2))\n",
    "frnt_idx=int(mid_idx-np.ceil(length/2))\n",
    "end_idx=frnt_idx+length\n",
    "idx=np.arange(frnt_idx,end_idx)\n",
    "same=[]\n",
    "for i in idx:\n",
    "    same.append(Result[i])\n",
    "print(same)"
   ]
  },
  {
   "cell_type": "code",
   "execution_count": null,
   "metadata": {
    "collapsed": true
   },
   "outputs": [],
   "source": []
  }
 ],
 "metadata": {
  "kernelspec": {
   "display_name": "Python 2",
   "language": "python",
   "name": "python2"
  },
  "language_info": {
   "codemirror_mode": {
    "name": "ipython",
    "version": 2
   },
   "file_extension": ".py",
   "mimetype": "text/x-python",
   "name": "python",
   "nbconvert_exporter": "python",
   "pygments_lexer": "ipython2",
   "version": "2.7.13"
  }
 },
 "nbformat": 4,
 "nbformat_minor": 2
}
