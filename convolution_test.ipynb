{
 "cells": [
  {
   "cell_type": "code",
   "execution_count": 4,
   "metadata": {},
   "outputs": [
    {
     "name": "stdout",
     "output_type": "stream",
     "text": [
      "my code for full mode: [ 4 13 22 15]\n",
      "numpy code for full mode: [ 4 13 22 15]\n",
      "my code for same mode: [ 4 13 22]\n",
      "numpy code for same mode: [ 4 13 22]\n"
     ]
    }
   ],
   "source": [
    "import matplotlib.pyplot as plt\n",
    "import numpy as np\n",
    "import math\n",
    "import convolutionF\n",
    "\n",
    "It=[1,2,3]\n",
    "kd=[4,5]\n",
    "L=convolutionF.convolve(It,kd,'full')\n",
    "L_n=np.convolve(It,kd, 'full')\n",
    "S=convolutionF.convolve(It,kd,'same')\n",
    "S_n=np.convolve(It,kd, 'same')\n",
    "print(\"my code for full mode: {}\".format(L))\n",
    "print(\"numpy code for full mode: {}\".format(L_n))\n",
    "print(\"my code for same mode: {}\".format(S))\n",
    "print(\"numpy code for same mode: {}\".format(S_n))"
   ]
  },
  {
   "cell_type": "code",
   "execution_count": null,
   "metadata": {
    "collapsed": true
   },
   "outputs": [],
   "source": []
  }
 ],
 "metadata": {
  "kernelspec": {
   "display_name": "Python 2",
   "language": "python",
   "name": "python2"
  },
  "language_info": {
   "codemirror_mode": {
    "name": "ipython",
    "version": 2
   },
   "file_extension": ".py",
   "mimetype": "text/x-python",
   "name": "python",
   "nbconvert_exporter": "python",
   "pygments_lexer": "ipython2",
   "version": "2.7.13"
  }
 },
 "nbformat": 4,
 "nbformat_minor": 2
}
