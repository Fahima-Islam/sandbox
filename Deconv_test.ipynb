{
 "cells": [
  {
   "cell_type": "code",
   "execution_count": 4,
   "metadata": {
    "collapsed": true
   },
   "outputs": [],
   "source": [
    "# Lucy-Richardson Deconvolution Algorithm for 1D Array.\n",
    "# some goodies\n",
    "%matplotlib inline\n",
    "import matplotlib.pyplot as plt\n",
    "import numpy as np\n",
    "import math\n",
    "import convolutionF as F"
   ]
  },
  {
   "cell_type": "code",
   "execution_count": 7,
   "metadata": {},
   "outputs": [
    {
     "name": "stdout",
     "output_type": "stream",
     "text": [
      "number of iteration: 12\n",
      "[  6.97829863e-01   2.22683110e+00   7.07187912e+00   3.45991654e-03]\n"
     ]
    }
   ],
   "source": [
    "sig=[1., 2., 3., 4.]\n",
    "mask=[1., 2., 3.]\n",
    "ini= 0.5*np.ones(len(sig))\n",
    "g='same'\n",
    "I=F.deconvolve(sig,mask,ini,g,'error',0.01)\n",
    "print (I)\n"
   ]
  }
 ],
 "metadata": {
  "kernelspec": {
   "display_name": "Python 2",
   "language": "python",
   "name": "python2"
  },
  "language_info": {
   "codemirror_mode": {
    "name": "ipython",
    "version": 2
   },
   "file_extension": ".py",
   "mimetype": "text/x-python",
   "name": "python",
   "nbconvert_exporter": "python",
   "pygments_lexer": "ipython2",
   "version": "2.7.13"
  }
 },
 "nbformat": 4,
 "nbformat_minor": 2
}
