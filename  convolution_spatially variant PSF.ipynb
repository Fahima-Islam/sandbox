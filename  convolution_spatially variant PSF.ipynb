{
 "cells": [
  {
   "cell_type": "code",
   "execution_count": 6,
   "metadata": {
    "collapsed": true
   },
   "outputs": [],
   "source": [
    "# Gives the discrete, linear convolution of two one-dimensional sequences.\n",
    "# some goodies\n",
    "%matplotlib inline\n",
    "import matplotlib.pyplot as plt\n",
    "import numpy as np\n",
    "import math\n",
    "\n",
    "import convolutionF as F"
   ]
  },
  {
   "cell_type": "code",
   "execution_count": 7,
   "metadata": {
    "collapsed": true
   },
   "outputs": [],
   "source": [
    "def gauss(x, amplitude, position, sigma):\n",
    "    return amplitude/np.sqrt(2*np.pi)/sigma * np.exp( -(x-position)**2/2./sigma**2)"
   ]
  },
  {
   "cell_type": "code",
   "execution_count": 8,
   "metadata": {
    "collapsed": true
   },
   "outputs": [],
   "source": [
    "x = np.linspace(-90, 90, 1000) # number of pixels\n",
    "dx = x[1]-x[0]"
   ]
  },
  {
   "cell_type": "code",
   "execution_count": 9,
   "metadata": {
    "scrolled": true
   },
   "outputs": [
    {
     "name": "stdout",
     "output_type": "stream",
     "text": [
      "enter the value of the sigma of the signal: 8\n"
     ]
    },
    {
     "data": {
      "text/plain": [
       "<matplotlib.legend.Legend at 0x7ff01f690ed0>"
      ]
     },
     "execution_count": 9,
     "metadata": {},
     "output_type": "execute_result"
    },
    {
     "data": {
      "image/png": "[encoded data removed]",
      "text/plain": [
       "<matplotlib.figure.Figure at 0x7ff01f482650>"
      ]
     },
     "metadata": {},
     "output_type": "display_data"
    }
   ],
   "source": [
    "sig_sigma=input('enter the value of the sigma of the signal: ') # sigma for signal\n",
    "\n",
    "sig=gauss(x, 1., 0, sig_sigma)+ gauss(x, 1., 3*sig_sigma, sig_sigma) #signal \n",
    "\n",
    "RF=np.zeros((len(x),len(x))) # initializing point spread function\n",
    "\n",
    "for i,j in zip (x, xrange(len(x))) :\n",
    "      \n",
    "    sigma=0.0\n",
    "    if i>=0:\n",
    "        sigma=(((5./100.)*max(x))-((5./200.)*i)) #various sigma for various position of point spread function\n",
    "    if i<0:\n",
    "        sigma=(((5./100.)*max(x))+((5./100.)*abs(i)))\n",
    "\n",
    "    RF[j::] =(gauss(x, 1, i,sigma))*dx # spatially varying point spread function\n",
    "\n",
    "\n",
    "#print(RF)\n",
    "\n",
    "sigColumn=sig.reshape(len(sig),1) #reshape the signal to a column vector\n",
    "sigMat=np.repeat(sigColumn,len(sig), axis=1) # make a matrix of the signal using the column vector\n",
    "\n",
    "convolvePSF=np.sum(np.multiply(sigMat,RF),axis=0) # convolved signal for spatially varying point spread function\n",
    "\n",
    "\n",
    "plt.figure() #plot the original signal\n",
    "plt.plot(x,sig, label='sig')\n",
    "plt.plot(x,convolvePSF,label='convolved')\n",
    "plt.legend()\n",
    "\n"
   ]
  },
  {
   "cell_type": "code",
   "execution_count": null,
   "metadata": {
    "collapsed": true
   },
   "outputs": [],
   "source": []
  }
 ],
 "metadata": {
  "kernelspec": {
   "display_name": "Python 2",
   "language": "python",
   "name": "python2"
  },
  "language_info": {
   "codemirror_mode": {
    "name": "ipython",
    "version": 2
   },
   "file_extension": ".py",
   "mimetype": "text/x-python",
   "name": "python",
   "nbconvert_exporter": "python",
   "pygments_lexer": "ipython2",
   "version": "2.7.13"
  }
 },
 "nbformat": 4,
 "nbformat_minor": 2
}
